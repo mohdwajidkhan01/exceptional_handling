{
  "nbformat": 4,
  "nbformat_minor": 0,
  "metadata": {
    "colab": {
      "provenance": []
    },
    "kernelspec": {
      "name": "python3",
      "display_name": "Python 3"
    },
    "language_info": {
      "name": "python"
    }
  },
  "cells": [
    {
      "cell_type": "markdown",
      "source": [
        "# FILE EXCEPTION HANDLING\n",
        "\n",
        "1.What is the difference between interpreted and compiled languages?\n",
        " - Interpreted languages: Code is executed line by line at runtime (e.g., Python). Slower but easy to debug.\n",
        " - Compiled languages: Code is translated into machine language before execution (e.g., C, C++). Faster but needs recompilation after every change.\n",
        "\n",
        "2.What is exception handling in Python?\n",
        "\n",
        " - Exception handling is a process that allows a program to handle errors without crashing. It provides a way to catch errors and take proper action, making programs more reliable.\n",
        "\n",
        "3.What is the purpose of the finally block in exception handling?\n",
        "\n",
        " - The finally block ensures that specific code always runs, whether an exception occurs or not. It is mainly used for cleanup operations such as closing files or releasing resources.\n",
        "\n",
        "4.What is logging in Python?\n",
        " - Logging is the process of recording important events, warnings, or errors in a program’s execution. It helps in debugging, monitoring, and keeping a history of program activities.\n",
        "\n",
        "5.What is the significance of the del method in Python?\n",
        " - The __del__ method is a destructor in Python. It is automatically called when an object is about to be destroyed. It is used for cleanup tasks like releasing resources.\n",
        "\n",
        "6.What is the difference between import and from ... import in Python?\n",
        " - import: Brings the entire module, functions are accessed using the module name.\n",
        " - from ... import: Brings specific functions or classes directly, used without prefixing the module name.\n",
        "\n",
        "7.How can you handle multiple exceptions in Python?\n",
        " - Multiple exceptions are handled by writing more than one except block. Each block handles a different type of error, allowing the program to react appropriately.\n",
        "\n",
        "8.What is the purpose of the with statement when handling files in Python?\n",
        " - The with statement is used to handle files safely. It automatically opens and closes files, even if an error occurs, ensuring no resource leakage.\n",
        "\n",
        "9.What is the difference between multithreading and multiprocessing?\n",
        " - Multithreading: Runs multiple threads within a single process, sharing memory. Suitable for I/O-bound tasks.\n",
        " - Multiprocessing: Runs multiple processes, each with separate memory. Suitable for CPU-bound tasks.\n",
        "\n",
        "10.What are the advantages of using logging in a program?\n",
        " - Provides detailed program information.\n",
        " - Helps in debugging and error tracking.\n",
        " - Allows real-time monitoring.\n",
        " - Maintains permanent records of program events.\n",
        "\n",
        "11.What is memory management in Python?\n",
        " - Memory management is the process of allocating and releasing memory during program execution. Python uses automatic garbage collection to manage memory efficiently.\n",
        "\n",
        "12.What are the basic steps involved in exception handling in Python?\n",
        " - Put risky code in a try block.\n",
        " - Catch exceptions using except blocks.\n",
        " - Use else block if no exception occurs.\n",
        " - Use finally block for cleanup actions.\n",
        "\n",
        "13.Why is memory management important in Python?\n",
        " - Memory management ensures efficient use of system resources. It prevents memory leaks, improves performance, and helps programs run smoothly.\n",
        "\n",
        "14.What is the role of try and except in exception handling?\n",
        " - try: Contains code that may cause an error.\n",
        " - except: Defines how the program should handle the error if it occurs.\n",
        "\n",
        "15.How does Python's garbage collection system work?\n",
        " - Python’s garbage collector automatically removes unused objects from memory. It uses reference counting and a cyclic garbage collector to free memory.\n",
        "\n",
        "16.What is the purpose of the else block in exception handling?\n",
        " - The else block runs only if no exception occurs in the try block. It is useful for code that should execute only when everything goes correctly.\n",
        "\n",
        "17.What are the common logging levels in Python?\n",
        " - DEBUG – Detailed information for developers.\n",
        " - INFO – General program execution information.\n",
        " - WARNING – Something unexpected happened, but not critical.\n",
        " - ERROR – A serious issue that may affect program execution.\n",
        " - CRITICAL – Very serious errors, program may stop.\n",
        "\n",
        "18.What is the difference between os.fork() and multiprocessing in Python?\n",
        " - os.fork(): Creates a child process at the OS level (mainly in Unix/Linux).\n",
        " - multiprocessing: A Python module that provides a high-level way to create and manage processes, works across platforms.\n",
        "\n",
        "19.What is the importance of closing a file in Python?\n",
        " - Closing a file releases system resources and ensures all data is saved correctly. If not closed, it may cause data loss or memory leaks.\n",
        "\n",
        "20.What is the difference between file.read() and file.readline() in Python?\n",
        " - file.read(): Reads the entire file (or specified number of characters).\n",
        " - file.readline(): Reads one line from the file at a time.\n",
        "\n",
        "21.What is the logging module in Python used for?\n",
        " - The logging module is used to track and record events during program execution. It helps in debugging, monitoring, and error reporting.\n",
        "\n",
        "22.What is the os module in Python used for in file handling?\n",
        " - The os module allows interaction with the operating system. In file handling, it is used for creating, deleting, renaming, and checking files or directories.\n",
        "\n",
        "23.What are the challenges associated with memory management in Python?\n",
        " - Memory leaks due to circular references.\n",
        " - High memory usage with large datasets.\n",
        " - Dependence on garbage collection, which may not always be predictable.\n",
        " - Slower performance compared to low-level languages.\n",
        "\n",
        "24.How do you raise an exception manually in Python?\n",
        " - An exception can be raised manually using the raise keyword. This is useful when programmers want to enforce rules or signal errors intentionally.\n",
        "\n",
        "25.Why is it important to use multithreading in certain applications?\n",
        " - Multithreading is important in applications where multiple tasks need to run at the same time, such as downloading files, handling user input, or network operations. It improves efficiency and responsiveness."
      ],
      "metadata": {
        "id": "GNylSEsI6Gg9"
      }
    },
    {
      "cell_type": "markdown",
      "source": [
        "# PRACTICAL QUESTION"
      ],
      "metadata": {
        "id": "_oRjWYy89TZP"
      }
    },
    {
      "cell_type": "code",
      "source": [
        "#1. How can you open a file for writing in Python and write a string to it\n",
        "file = open(\"example.txt\", \"w\")\n",
        "file.write(\"Hello, this is a sample text.\")\n",
        "file.close()"
      ],
      "metadata": {
        "id": "IkTAOaNc9ZQf"
      },
      "execution_count": 1,
      "outputs": []
    },
    {
      "cell_type": "code",
      "source": [
        "#2. Write a Python program to read the contents of a file and print each line\n",
        "file = open(\"example.txt\", \"r\")\n",
        "for line in file:\n",
        "    print(line.strip())\n",
        "file.close()"
      ],
      "metadata": {
        "colab": {
          "base_uri": "https://localhost:8080/"
        },
        "id": "PpJwChnw_0vH",
        "outputId": "d7f29bc5-3a87-475b-eba4-21b0edd76ed5"
      },
      "execution_count": 3,
      "outputs": [
        {
          "output_type": "stream",
          "name": "stdout",
          "text": [
            "Hello, this is a sample text.\n"
          ]
        }
      ]
    },
    {
      "cell_type": "code",
      "source": [
        "#3. How would you handle a case where the file doesn't exist while trying to open it for reading\n",
        "try:\n",
        "    file = open(\"nofile.txt\", \"r\")\n",
        "    print(file.read())\n",
        "    file.close()\n",
        "except FileNotFoundError:\n",
        "    print(\"Error: File does not exist.\")"
      ],
      "metadata": {
        "colab": {
          "base_uri": "https://localhost:8080/"
        },
        "id": "TwjJ55mH_8wy",
        "outputId": "ce4a2216-e2df-4229-9228-2727e50e6b8a"
      },
      "execution_count": 4,
      "outputs": [
        {
          "output_type": "stream",
          "name": "stdout",
          "text": [
            "Error: File does not exist.\n"
          ]
        }
      ]
    },
    {
      "cell_type": "code",
      "source": [
        "#4. Write a Python script that reads from one file and writes its content to another file\n",
        "with open(\"source.txt\", \"r\") as src:\n",
        "    with open(\"destination.txt\", \"w\") as dest:\n",
        "        dest.write(src.read())"
      ],
      "metadata": {
        "id": "JNGYv6nbAEuV"
      },
      "execution_count": null,
      "outputs": []
    },
    {
      "cell_type": "code",
      "source": [
        "#5. How would you catch and handle division by zero error in Python\n",
        "try:\n",
        "    result = 10 / 0\n",
        "except ZeroDivisionError:\n",
        "    print(\"Error: Division by zero is not allowed.\")"
      ],
      "metadata": {
        "colab": {
          "base_uri": "https://localhost:8080/"
        },
        "id": "U41U8dWkAl2b",
        "outputId": "a9d7f887-7d95-45e9-a0e6-c1e6e0f278a6"
      },
      "execution_count": 7,
      "outputs": [
        {
          "output_type": "stream",
          "name": "stdout",
          "text": [
            "Error: Division by zero is not allowed.\n"
          ]
        }
      ]
    },
    {
      "cell_type": "code",
      "source": [
        "#6. Write a Python program that logs an error message to a log file when a division by zero exception occurs\n",
        "import logging\n",
        "\n",
        "logging.basicConfig(filename=\"error.log\", level=logging.ERROR)\n",
        "\n",
        "try:\n",
        "    result = 5 / 0\n",
        "except ZeroDivisionError:\n",
        "    logging.error(\"Division by zero error occurred\")"
      ],
      "metadata": {
        "colab": {
          "base_uri": "https://localhost:8080/"
        },
        "id": "Gtwv5qgiAusu",
        "outputId": "4668875f-8108-4e65-e4e7-dcef00e7798f"
      },
      "execution_count": 8,
      "outputs": [
        {
          "output_type": "stream",
          "name": "stderr",
          "text": [
            "ERROR:root:Division by zero error occurred\n"
          ]
        }
      ]
    },
    {
      "cell_type": "code",
      "source": [
        "#7. How do you log information at different levels (INFO, ERROR, WARNING) in Python using the logging module\n",
        "import logging\n",
        "\n",
        "logging.basicConfig(filename=\"app.log\", level=logging.DEBUG)\n",
        "\n",
        "logging.info(\"This is an info message\")\n",
        "logging.warning(\"This is a warning message\")\n",
        "logging.error(\"This is an error message\")"
      ],
      "metadata": {
        "colab": {
          "base_uri": "https://localhost:8080/"
        },
        "id": "h-Z2WZXnA1PS",
        "outputId": "0bac32a7-073d-46d8-c89a-c8f33c4b8e8a"
      },
      "execution_count": 9,
      "outputs": [
        {
          "output_type": "stream",
          "name": "stderr",
          "text": [
            "WARNING:root:This is a warning message\n",
            "ERROR:root:This is an error message\n"
          ]
        }
      ]
    },
    {
      "cell_type": "code",
      "source": [
        "#8. Write a program to handle a file opening error using exception handling\n",
        "try:\n",
        "    file = open(\"unknown.txt\", \"r\")\n",
        "except FileNotFoundError:\n",
        "    print(\"Error: Unable to open the file.\")"
      ],
      "metadata": {
        "colab": {
          "base_uri": "https://localhost:8080/"
        },
        "id": "d3jAAbXzBDlx",
        "outputId": "6748ecf5-7485-4a95-bb04-981ea006ed3f"
      },
      "execution_count": 10,
      "outputs": [
        {
          "output_type": "stream",
          "name": "stdout",
          "text": [
            "Error: Unable to open the file.\n"
          ]
        }
      ]
    },
    {
      "cell_type": "code",
      "source": [
        "#9. How can you read a file line by line and store its content in a list in Python\n",
        "with open(\"example.txt\", \"r\") as file:\n",
        "    lines = file.readlines()\n",
        "\n",
        "print(lines)"
      ],
      "metadata": {
        "colab": {
          "base_uri": "https://localhost:8080/"
        },
        "id": "KvGwaJyEBMlP",
        "outputId": "0cf9d2b5-5b34-47cb-9d8c-19c48b194a7a"
      },
      "execution_count": 11,
      "outputs": [
        {
          "output_type": "stream",
          "name": "stdout",
          "text": [
            "['Hello, this is a sample text.']\n"
          ]
        }
      ]
    },
    {
      "cell_type": "code",
      "source": [
        "#10. How can you append data to an existing file in Python\n",
        "with open(\"example.txt\", \"a\") as file:\n",
        "    file.write(\"\\nThis is new appended text.\")#"
      ],
      "metadata": {
        "id": "JhArqe7LBU52"
      },
      "execution_count": 12,
      "outputs": []
    },
    {
      "cell_type": "code",
      "source": [
        "#11. Write a Python program that uses a try-except block to handle an error when attempting to access a dictionary key that doesn't exist\n",
        "data = {\"name\": \"John\"}\n",
        "\n",
        "try:\n",
        "    print(data[\"age\"])\n",
        "except KeyError:\n",
        "    print(\"Error: Key does not exist in dictionary.\")"
      ],
      "metadata": {
        "colab": {
          "base_uri": "https://localhost:8080/"
        },
        "id": "Eh-snhKuBc39",
        "outputId": "026bbc20-116d-4430-89cf-88361d2c5f01"
      },
      "execution_count": 13,
      "outputs": [
        {
          "output_type": "stream",
          "name": "stdout",
          "text": [
            "Error: Key does not exist in dictionary.\n"
          ]
        }
      ]
    },
    {
      "cell_type": "code",
      "source": [
        "#12. Write a program that demonstrates using multiple except blocks to handle different types of exceptions\n",
        "try:\n",
        "    x = int(\"abc\")\n",
        "    y = 10 / 0\n",
        "except ValueError:\n",
        "    print(\"Error: Invalid value.\")\n",
        "except ZeroDivisionError:\n",
        "    print(\"Error: Division by zero.\")"
      ],
      "metadata": {
        "colab": {
          "base_uri": "https://localhost:8080/"
        },
        "id": "qByTszDwBkGr",
        "outputId": "f5c215a8-8108-4a88-a05b-e138a55ffb64"
      },
      "execution_count": 14,
      "outputs": [
        {
          "output_type": "stream",
          "name": "stdout",
          "text": [
            "Error: Invalid value.\n"
          ]
        }
      ]
    },
    {
      "cell_type": "code",
      "source": [
        "#13. How would you check if a file exists before attempting to read it in Python\n",
        "import os\n",
        "\n",
        "if os.path.exists(\"example.txt\"):\n",
        "    with open(\"example.txt\", \"r\") as file:\n",
        "        print(file.read())\n",
        "else:\n",
        "    print(\"File does not exist.\")"
      ],
      "metadata": {
        "colab": {
          "base_uri": "https://localhost:8080/"
        },
        "id": "AOBnltY2BrFL",
        "outputId": "fb5a4123-b05b-460e-b5fd-8fff4739bc79"
      },
      "execution_count": 15,
      "outputs": [
        {
          "output_type": "stream",
          "name": "stdout",
          "text": [
            "Hello, this is a sample text.\n",
            "This is new appended text.\n"
          ]
        }
      ]
    },
    {
      "cell_type": "code",
      "source": [
        "#14. Write a program that uses the logging module to log both informational and error messages\n",
        "import logging\n",
        "\n",
        "logging.basicConfig(filename=\"logfile.log\", level=logging.DEBUG)\n",
        "\n",
        "logging.info(\"Program started successfully\")\n",
        "try:\n",
        "    result = 10 / 0\n",
        "except ZeroDivisionError:\n",
        "    logging.error(\"Division by zero occurred\")"
      ],
      "metadata": {
        "colab": {
          "base_uri": "https://localhost:8080/"
        },
        "id": "NWMJfYFeBxDE",
        "outputId": "ad351087-b1fb-46c7-85a4-f901fb66dc55"
      },
      "execution_count": 16,
      "outputs": [
        {
          "output_type": "stream",
          "name": "stderr",
          "text": [
            "ERROR:root:Division by zero occurred\n"
          ]
        }
      ]
    },
    {
      "cell_type": "code",
      "source": [
        "#15. Write a Python program that prints the content of a file and handles the case when the file is empty\n",
        "with open(\"example.txt\", \"r\") as file:\n",
        "    content = file.read()\n",
        "\n",
        "if content:\n",
        "    print(content)\n",
        "else:\n",
        "    print(\"The file is empty.\")"
      ],
      "metadata": {
        "colab": {
          "base_uri": "https://localhost:8080/"
        },
        "id": "mOGvv6UgCJ8O",
        "outputId": "171fb5b7-c959-494e-dd37-11854bb74467"
      },
      "execution_count": 17,
      "outputs": [
        {
          "output_type": "stream",
          "name": "stdout",
          "text": [
            "Hello, this is a sample text.\n",
            "This is new appended text.\n"
          ]
        }
      ]
    },
    {
      "cell_type": "code",
      "source": [
        "#16. Demonstrate how to use memory profiling to check the memory usage of a small program\n",
        "from memory_profiler import profile\n",
        "\n",
        "@profile\n",
        "def my_func():\n",
        "    numbers = [i for i in range(10000)]   # creating a list of 10,000 integers\n",
        "    print(\"List created with 10000 numbers.\")\n",
        "\n",
        "my_func()"
      ],
      "metadata": {
        "id": "nzoXlRg_CShC"
      },
      "execution_count": null,
      "outputs": []
    },
    {
      "cell_type": "code",
      "source": [
        "#17. Write a Python program to create and write a list of numbers to a file, one number per line\n",
        "numbers = [1, 2, 3, 4, 5]\n",
        "\n",
        "with open(\"numbers.txt\", \"w\") as file:\n",
        "    for num in numbers:\n",
        "        file.write(str(num) + \"\\n\")"
      ],
      "metadata": {
        "id": "L_G7MrdJDOir"
      },
      "execution_count": 21,
      "outputs": []
    },
    {
      "cell_type": "code",
      "source": [
        "#18. How would you implement a basic logging setup that logs to a file with rotation after 1MB\n",
        "import logging\n",
        "from logging.handlers import RotatingFileHandler\n",
        "\n",
        "handler = RotatingFileHandler(\"rotating.log\", maxBytes=1024*1024, backupCount=3)\n",
        "logging.basicConfig(handlers=[handler], level=logging.INFO)\n",
        "\n",
        "logging.info(\"This is a test log entry.\")"
      ],
      "metadata": {
        "id": "6Zg6dVTKDZvh"
      },
      "execution_count": 22,
      "outputs": []
    },
    {
      "cell_type": "code",
      "source": [
        "#19. Write a program that handles both IndexError and KeyError using a try-except block\n",
        "data = {\"name\": \"Alice\"}\n",
        "numbers = [1, 2, 3]\n",
        "\n",
        "try:\n",
        "    print(data[\"age\"])\n",
        "    print(numbers[5])\n",
        "except KeyError:\n",
        "    print(\"KeyError: Dictionary key not found.\")\n",
        "except IndexError:\n",
        "    print(\"IndexError: List index out of range.\")"
      ],
      "metadata": {
        "colab": {
          "base_uri": "https://localhost:8080/"
        },
        "id": "7WrBklX-Die_",
        "outputId": "29f315f3-1aca-46af-a9b1-e4d60f204193"
      },
      "execution_count": 23,
      "outputs": [
        {
          "output_type": "stream",
          "name": "stdout",
          "text": [
            "KeyError: Dictionary key not found.\n"
          ]
        }
      ]
    },
    {
      "cell_type": "code",
      "source": [
        "#20. How would you open a file and read its contents using a context manager in Python\n",
        "with open(\"example.txt\", \"r\") as file:\n",
        "    print(file.read())"
      ],
      "metadata": {
        "colab": {
          "base_uri": "https://localhost:8080/"
        },
        "id": "Ut-01n3PDplq",
        "outputId": "26ad1e65-2a5f-4983-fb0d-9a64704ff45b"
      },
      "execution_count": 24,
      "outputs": [
        {
          "output_type": "stream",
          "name": "stdout",
          "text": [
            "Hello, this is a sample text.\n",
            "This is new appended text.\n"
          ]
        }
      ]
    },
    {
      "cell_type": "code",
      "source": [
        "#21. Write a Python program that reads a file and prints the number of occurrences of a specific word\n",
        "word = \"python\"\n",
        "count = 0\n",
        "\n",
        "with open(\"example.txt\", \"r\") as file:\n",
        "    for line in file:\n",
        "        count += line.lower().count(word)\n",
        "\n",
        "print(f\"The word '{word}' occurs {count} times.\")"
      ],
      "metadata": {
        "colab": {
          "base_uri": "https://localhost:8080/"
        },
        "id": "jHvTLbxsDvAQ",
        "outputId": "26b911c5-54f2-466b-cf4d-745129eac38d"
      },
      "execution_count": 25,
      "outputs": [
        {
          "output_type": "stream",
          "name": "stdout",
          "text": [
            "The word 'python' occurs 0 times.\n"
          ]
        }
      ]
    },
    {
      "cell_type": "code",
      "source": [
        "#22. How can you check if a file is empty before attempting to read its contents\n",
        "import os\n",
        "\n",
        "if os.path.exists(\"example.txt\") and os.path.getsize(\"example.txt\") > 0:\n",
        "    with open(\"example.txt\", \"r\") as file:\n",
        "        print(file.read())\n",
        "else:\n",
        "    print(\"File is empty or does not exist.\")"
      ],
      "metadata": {
        "colab": {
          "base_uri": "https://localhost:8080/"
        },
        "id": "z39TZysIEK8y",
        "outputId": "e2b8ab6a-db7c-4fc4-8221-92aa57b9618f"
      },
      "execution_count": 26,
      "outputs": [
        {
          "output_type": "stream",
          "name": "stdout",
          "text": [
            "Hello, this is a sample text.\n",
            "This is new appended text.\n"
          ]
        }
      ]
    },
    {
      "cell_type": "code",
      "source": [
        "#23. Write a Python program that writes to a log file when an error occurs during file handling\n",
        "import logging\n",
        "\n",
        "logging.basicConfig(filename=\"file_error.log\", level=logging.ERROR)\n",
        "\n",
        "try:\n",
        "    with open(\"nofile.txt\", \"r\") as file:\n",
        "        print(file.read())\n",
        "except Exception as e:\n",
        "    logging.error(f\"Error occurred while handling file: {e}\")"
      ],
      "metadata": {
        "colab": {
          "base_uri": "https://localhost:8080/"
        },
        "id": "lB4-bpfjEWXi",
        "outputId": "d56016da-01b1-420b-faa6-8125a8d9dca4"
      },
      "execution_count": 27,
      "outputs": [
        {
          "output_type": "stream",
          "name": "stderr",
          "text": [
            "ERROR:root:Error occurred while handling file: [Errno 2] No such file or directory: 'nofile.txt'\n"
          ]
        }
      ]
    }
  ]
}